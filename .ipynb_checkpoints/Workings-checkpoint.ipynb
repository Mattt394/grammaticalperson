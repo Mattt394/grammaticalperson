{
 "cells": [
  {
   "cell_type": "markdown",
   "id": "logical-border",
   "metadata": {},
   "source": [
    "# Example Usage with grammaticalperson"
   ]
  },
  {
   "cell_type": "code",
   "execution_count": 1,
   "id": "analyzed-indianapolis",
   "metadata": {},
   "outputs": [],
   "source": [
    "import grammaticalperson as gmp\n",
    "import pandas as pd\n",
    "pd.set_option('max_colwidth',300)"
   ]
  },
  {
   "cell_type": "code",
   "execution_count": 2,
   "id": "bound-stockholm",
   "metadata": {},
   "outputs": [],
   "source": [
    "first_person_to_second_person = gmp.FPtoSPTransformer()"
   ]
  },
  {
   "cell_type": "code",
   "execution_count": 3,
   "id": "unnecessary-status",
   "metadata": {},
   "outputs": [],
   "source": [
    "second_person_to_first_person_singular = gmp.SPtoFPSingularTransformer()"
   ]
  },
  {
   "cell_type": "code",
   "execution_count": 4,
   "id": "alternative-appointment",
   "metadata": {},
   "outputs": [],
   "source": [
    "first_person_insights = [\"My partner's actions (or lack of them) may be an indication that they do not know my feelings, needs, or how to respond to them. I am not a mind-reader and neither are they.\",\n",
    "                        \"If someone has put thought into their request of me, I can also put thought into my answer. Space to consider requests allows me evaluate whether I have the time, energy and interest to say 'yes'.\",\n",
    "                        \"If I say 'yes' all the time, I'm going to disappoint more people.\",\n",
    "                        \"I have influence over my children, but I don't make their choices for them, so it makes no sense to take responsibility for it.\"]\n",
    "\n",
    "first_person_symptoms = ['I am sick of hearing people be dramatic about the issues happening in my community.',\n",
    "                       \"I know I am damaging my credibility through trying to answer questions I don't have the answer for, but I can't help myself.\"]\n",
    "\n",
    "first_person_beliefs = ['My life would be better if I never made mistakes.',\n",
    "                       \"I am just an angry person - I'll always be this way.\"]\n",
    "\n",
    "reddit_second_person_sentences = ['All it takes is that first scary ass step of putting yourself out there.',\n",
    "                                 \"Also you're definitely better than you think you are.\",\n",
    "                                 \"There are enough people in this world who would love to bring you down, take yourself off that list :D\",\n",
    "                                 \"The truth is most people will only stand by you and tolerate you as long as you are headed down the same path, the exact moment you decide to try something new or unexpected you are by yourself, the moment you struggle with life matters you are mostly by yourself.\",\n",
    "                                 \"If you meet up with them, and they make you feel good, that's what matters.\",\n",
    "                                 ]"
   ]
  },
  {
   "cell_type": "code",
   "execution_count": 5,
   "id": "corrected-blank",
   "metadata": {},
   "outputs": [],
   "source": [
    "fp_df = pd.DataFrame({'type':['Thinkladder Insight']*4 + ['Thinkladder Symptom']*2 + ['Thinkladder Belief']*2,\n",
    "        'original':first_person_insights+first_person_symptoms+first_person_beliefs})\n",
    "fp_df['transformed'] = fp_df.original.apply(first_person_to_second_person.transform)"
   ]
  },
  {
   "cell_type": "code",
   "execution_count": 6,
   "id": "owned-implement",
   "metadata": {},
   "outputs": [
    {
     "data": {
      "text/html": [
       "<div>\n",
       "<style scoped>\n",
       "    .dataframe tbody tr th:only-of-type {\n",
       "        vertical-align: middle;\n",
       "    }\n",
       "\n",
       "    .dataframe tbody tr th {\n",
       "        vertical-align: top;\n",
       "    }\n",
       "\n",
       "    .dataframe thead th {\n",
       "        text-align: right;\n",
       "    }\n",
       "</style>\n",
       "<table border=\"1\" class=\"dataframe\">\n",
       "  <thead>\n",
       "    <tr style=\"text-align: right;\">\n",
       "      <th></th>\n",
       "      <th>type</th>\n",
       "      <th>original</th>\n",
       "      <th>transformed</th>\n",
       "    </tr>\n",
       "  </thead>\n",
       "  <tbody>\n",
       "    <tr>\n",
       "      <th>0</th>\n",
       "      <td>Thinkladder Insight</td>\n",
       "      <td>My partner's actions (or lack of them) may be an indication that they do not know my feelings, needs, or how to respond to them. I am not a mind-reader and neither are they.</td>\n",
       "      <td>Your partner's actions (or lack of them) may be an indication that they do not know your feelings, needs, or how to respond to them. You are not a mind-reader and neither are they.</td>\n",
       "    </tr>\n",
       "    <tr>\n",
       "      <th>1</th>\n",
       "      <td>Thinkladder Insight</td>\n",
       "      <td>If someone has put thought into their request of me, I can also put thought into my answer. Space to consider requests allows me evaluate whether I have the time, energy and interest to say 'yes'.</td>\n",
       "      <td>If someone has put thought into their request of you, you can also put thought into your answer. Space to consider requests allows you evaluate whether you have the time, energy and interest to say 'yes'.</td>\n",
       "    </tr>\n",
       "    <tr>\n",
       "      <th>2</th>\n",
       "      <td>Thinkladder Insight</td>\n",
       "      <td>If I say 'yes' all the time, I'm going to disappoint more people.</td>\n",
       "      <td>If you say 'yes' all the time, you're going to disappoint more people.</td>\n",
       "    </tr>\n",
       "    <tr>\n",
       "      <th>3</th>\n",
       "      <td>Thinkladder Insight</td>\n",
       "      <td>I have influence over my children, but I don't make their choices for them, so it makes no sense to take responsibility for it.</td>\n",
       "      <td>You have influence over your children, but you don't make their choices for them, so it makes no sense to take responsibility for it.</td>\n",
       "    </tr>\n",
       "    <tr>\n",
       "      <th>4</th>\n",
       "      <td>Thinkladder Symptom</td>\n",
       "      <td>I am sick of hearing people be dramatic about the issues happening in my community.</td>\n",
       "      <td>You are sick of hearing people be dramatic about the issues happening in your community.</td>\n",
       "    </tr>\n",
       "    <tr>\n",
       "      <th>5</th>\n",
       "      <td>Thinkladder Symptom</td>\n",
       "      <td>I know I am damaging my credibility through trying to answer questions I don't have the answer for, but I can't help myself.</td>\n",
       "      <td>You know you are damaging your credibility through trying to answer questions you don't have the answer for, but you can't help yourself.</td>\n",
       "    </tr>\n",
       "    <tr>\n",
       "      <th>6</th>\n",
       "      <td>Thinkladder Belief</td>\n",
       "      <td>My life would be better if I never made mistakes.</td>\n",
       "      <td>Your life would be better if you never made mistakes.</td>\n",
       "    </tr>\n",
       "    <tr>\n",
       "      <th>7</th>\n",
       "      <td>Thinkladder Belief</td>\n",
       "      <td>I am just an angry person - I'll always be this way.</td>\n",
       "      <td>You are just an angry person - you'll always be this way.</td>\n",
       "    </tr>\n",
       "  </tbody>\n",
       "</table>\n",
       "</div>"
      ],
      "text/plain": [
       "                  type  \\\n",
       "0  Thinkladder Insight   \n",
       "1  Thinkladder Insight   \n",
       "2  Thinkladder Insight   \n",
       "3  Thinkladder Insight   \n",
       "4  Thinkladder Symptom   \n",
       "5  Thinkladder Symptom   \n",
       "6   Thinkladder Belief   \n",
       "7   Thinkladder Belief   \n",
       "\n",
       "                                                                                                                                                                                               original  \\\n",
       "0                         My partner's actions (or lack of them) may be an indication that they do not know my feelings, needs, or how to respond to them. I am not a mind-reader and neither are they.   \n",
       "1  If someone has put thought into their request of me, I can also put thought into my answer. Space to consider requests allows me evaluate whether I have the time, energy and interest to say 'yes'.   \n",
       "2                                                                                                                                     If I say 'yes' all the time, I'm going to disappoint more people.   \n",
       "3                                                                       I have influence over my children, but I don't make their choices for them, so it makes no sense to take responsibility for it.   \n",
       "4                                                                                                                   I am sick of hearing people be dramatic about the issues happening in my community.   \n",
       "5                                                                          I know I am damaging my credibility through trying to answer questions I don't have the answer for, but I can't help myself.   \n",
       "6                                                                                                                                                     My life would be better if I never made mistakes.   \n",
       "7                                                                                                                                                  I am just an angry person - I'll always be this way.   \n",
       "\n",
       "                                                                                                                                                                                                    transformed  \n",
       "0                          Your partner's actions (or lack of them) may be an indication that they do not know your feelings, needs, or how to respond to them. You are not a mind-reader and neither are they.  \n",
       "1  If someone has put thought into their request of you, you can also put thought into your answer. Space to consider requests allows you evaluate whether you have the time, energy and interest to say 'yes'.  \n",
       "2                                                                                                                                        If you say 'yes' all the time, you're going to disappoint more people.  \n",
       "3                                                                         You have influence over your children, but you don't make their choices for them, so it makes no sense to take responsibility for it.  \n",
       "4                                                                                                                      You are sick of hearing people be dramatic about the issues happening in your community.  \n",
       "5                                                                     You know you are damaging your credibility through trying to answer questions you don't have the answer for, but you can't help yourself.  \n",
       "6                                                                                                                                                         Your life would be better if you never made mistakes.  \n",
       "7                                                                                                                                                     You are just an angry person - you'll always be this way.  "
      ]
     },
     "execution_count": 6,
     "metadata": {},
     "output_type": "execute_result"
    }
   ],
   "source": [
    "fp_df"
   ]
  },
  {
   "cell_type": "code",
   "execution_count": 7,
   "id": "juvenile-advertising",
   "metadata": {},
   "outputs": [],
   "source": [
    "sp_df = pd.DataFrame({'type':['reddit']*5, 'original':reddit_second_person_sentences})\n",
    "sp_df['transformed'] = sp_df.original.apply(second_person_to_first_person_singular.transform)"
   ]
  },
  {
   "cell_type": "code",
   "execution_count": 8,
   "id": "martial-george",
   "metadata": {},
   "outputs": [
    {
     "data": {
      "text/html": [
       "<div>\n",
       "<style scoped>\n",
       "    .dataframe tbody tr th:only-of-type {\n",
       "        vertical-align: middle;\n",
       "    }\n",
       "\n",
       "    .dataframe tbody tr th {\n",
       "        vertical-align: top;\n",
       "    }\n",
       "\n",
       "    .dataframe thead th {\n",
       "        text-align: right;\n",
       "    }\n",
       "</style>\n",
       "<table border=\"1\" class=\"dataframe\">\n",
       "  <thead>\n",
       "    <tr style=\"text-align: right;\">\n",
       "      <th></th>\n",
       "      <th>type</th>\n",
       "      <th>original</th>\n",
       "      <th>transformed</th>\n",
       "    </tr>\n",
       "  </thead>\n",
       "  <tbody>\n",
       "    <tr>\n",
       "      <th>0</th>\n",
       "      <td>reddit</td>\n",
       "      <td>All it takes is that first scary ass step of putting yourself out there.</td>\n",
       "      <td>All it takes is that first scary ass step of putting myself out there.</td>\n",
       "    </tr>\n",
       "    <tr>\n",
       "      <th>1</th>\n",
       "      <td>reddit</td>\n",
       "      <td>Also you're definitely better than you think you are.</td>\n",
       "      <td>Also I'm definitely better than I think I am.</td>\n",
       "    </tr>\n",
       "    <tr>\n",
       "      <th>2</th>\n",
       "      <td>reddit</td>\n",
       "      <td>There are enough people in this world who would love to bring you down, take yourself off that list :D</td>\n",
       "      <td>There are enough people in this world who would love to bring me down, take myself off that list :D</td>\n",
       "    </tr>\n",
       "    <tr>\n",
       "      <th>3</th>\n",
       "      <td>reddit</td>\n",
       "      <td>The truth is most people will only stand by you and tolerate you as long as you are headed down the same path, the exact moment you decide to try something new or unexpected you are by yourself, the moment you struggle with life matters you are mostly by yourself.</td>\n",
       "      <td>The truth is most people will only stand by me and tolerate me as long as I am headed down the same path, the exact moment I decide to try something new or unexpected I am by myself, the moment I struggle with life matters I am mostly by myself.</td>\n",
       "    </tr>\n",
       "    <tr>\n",
       "      <th>4</th>\n",
       "      <td>reddit</td>\n",
       "      <td>If you meet up with them, and they make you feel good, that's what matters.</td>\n",
       "      <td>If I meet up with them, and they make I feel good, that's what matters.</td>\n",
       "    </tr>\n",
       "  </tbody>\n",
       "</table>\n",
       "</div>"
      ],
      "text/plain": [
       "     type  \\\n",
       "0  reddit   \n",
       "1  reddit   \n",
       "2  reddit   \n",
       "3  reddit   \n",
       "4  reddit   \n",
       "\n",
       "                                                                                                                                                                                                                                                                   original  \\\n",
       "0                                                                                                                                                                                                  All it takes is that first scary ass step of putting yourself out there.   \n",
       "1                                                                                                                                                                                                                     Also you're definitely better than you think you are.   \n",
       "2                                                                                                                                                                    There are enough people in this world who would love to bring you down, take yourself off that list :D   \n",
       "3  The truth is most people will only stand by you and tolerate you as long as you are headed down the same path, the exact moment you decide to try something new or unexpected you are by yourself, the moment you struggle with life matters you are mostly by yourself.   \n",
       "4                                                                                                                                                                                               If you meet up with them, and they make you feel good, that's what matters.   \n",
       "\n",
       "                                                                                                                                                                                                                                             transformed  \n",
       "0                                                                                                                                                                                 All it takes is that first scary ass step of putting myself out there.  \n",
       "1                                                                                                                                                                                                          Also I'm definitely better than I think I am.  \n",
       "2                                                                                                                                                    There are enough people in this world who would love to bring me down, take myself off that list :D  \n",
       "3  The truth is most people will only stand by me and tolerate me as long as I am headed down the same path, the exact moment I decide to try something new or unexpected I am by myself, the moment I struggle with life matters I am mostly by myself.  \n",
       "4                                                                                                                                                                                If I meet up with them, and they make I feel good, that's what matters.  "
      ]
     },
     "execution_count": 8,
     "metadata": {},
     "output_type": "execute_result"
    }
   ],
   "source": [
    "sp_df"
   ]
  },
  {
   "cell_type": "code",
   "execution_count": null,
   "id": "expired-tours",
   "metadata": {},
   "outputs": [],
   "source": []
  },
  {
   "cell_type": "code",
   "execution_count": null,
   "id": "liable-resident",
   "metadata": {},
   "outputs": [],
   "source": []
  }
 ],
 "metadata": {
  "kernelspec": {
   "display_name": "Python 3",
   "language": "python",
   "name": "python3"
  },
  "language_info": {
   "codemirror_mode": {
    "name": "ipython",
    "version": 3
   },
   "file_extension": ".py",
   "mimetype": "text/x-python",
   "name": "python",
   "nbconvert_exporter": "python",
   "pygments_lexer": "ipython3",
   "version": "3.8.5"
  }
 },
 "nbformat": 4,
 "nbformat_minor": 5
}
