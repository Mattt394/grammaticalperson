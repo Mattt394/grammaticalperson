{
 "cells": [
  {
   "cell_type": "markdown",
   "id": "logical-border",
   "metadata": {},
   "source": [
    "# Example Usage with grammaticalperson"
   ]
  },
  {
   "cell_type": "code",
   "execution_count": 1,
   "id": "analyzed-indianapolis",
   "metadata": {},
   "outputs": [],
   "source": [
    "import grammaticalperson as gmp\n",
    "import pandas as pd\n",
    "pd.set_option('max_colwidth',300)"
   ]
  },
  {
   "cell_type": "code",
   "execution_count": 2,
   "id": "bound-stockholm",
   "metadata": {},
   "outputs": [],
   "source": [
    "first_person_to_second_person = gmp.FPtoSPTransformer(\"en_core_web_lg\")"
   ]
  },
  {
   "cell_type": "code",
   "execution_count": 3,
   "id": "unnecessary-status",
   "metadata": {},
   "outputs": [],
   "source": [
    "second_person_to_first_person_singular = gmp.SPtoFPSingularTransformer(\"en_core_web_lg\")"
   ]
  },
  {
   "cell_type": "code",
   "execution_count": 4,
   "id": "alternative-appointment",
   "metadata": {},
   "outputs": [],
   "source": [
    "first_person_insights = [\"My partner's actions (or lack of them) may be an indication that they do not know my feelings, needs, or how to respond to them. I am not a mind-reader and neither are they.\",\n",
    "                        \"If someone has put thought into their request of me, I can also put thought into my answer. Space to consider requests allows me evaluate whether I have the time, energy and interest to say 'yes'.\",\n",
    "                        \"If I say 'yes' all the time, I'm going to disappoint more people.\",\n",
    "                        \"I have influence over my children, but I don't make their choices for them, so it makes no sense to take responsibility for it.\"]\n",
    "\n",
    "first_person_symptoms = ['I am sick of hearing people be dramatic about the issues happening in my community.',\n",
    "                       \"I know I am damaging my credibility through trying to answer questions I don't have the answer for, but I can't help myself.\"]\n",
    "\n",
    "first_person_beliefs = ['My life would be better if I never made mistakes.',\n",
    "                       \"I am just an angry person - I'll always be this way.\"]\n",
    "\n",
    "reddit_second_person_sentences = ['All it takes is that first scary ass step of putting yourself out there.',\n",
    "                                 \"Also you're definitely better than you think you are.\",\n",
    "                                 \"There are enough people in this world who would love to bring you down, take yourself off that list :D\",\n",
    "                                 \"The truth is most people will only stand by you and tolerate you as long as you are headed down the same path, the exact moment you decide to try something new or unexpected you are by yourself, the moment you struggle with life matters you are mostly by yourself.\",\n",
    "                                 \"If you meet up with them, and they make you feel good, that's what matters.\",\n",
    "                                 ]"
   ]
  },
  {
   "cell_type": "code",
   "execution_count": 5,
   "id": "corrected-blank",
   "metadata": {},
   "outputs": [],
   "source": [
    "fp_df = pd.DataFrame({'type':['Thinkladder Insight']*4 + ['Thinkladder Symptom']*2 + ['Thinkladder Belief']*2,\n",
    "        'original':first_person_insights+first_person_symptoms+first_person_beliefs})\n",
    "fp_df['transformed'] = fp_df.original.apply(first_person_to_second_person.transform)"
   ]
  },
  {
   "cell_type": "code",
   "execution_count": 6,
   "id": "owned-implement",
   "metadata": {},
   "outputs": [
    {
     "data": {
      "text/html": [
       "<div>\n",
       "<style scoped>\n",
       "    .dataframe tbody tr th:only-of-type {\n",
       "        vertical-align: middle;\n",
       "    }\n",
       "\n",
       "    .dataframe tbody tr th {\n",
       "        vertical-align: top;\n",
       "    }\n",
       "\n",
       "    .dataframe thead th {\n",
       "        text-align: right;\n",
       "    }\n",
       "</style>\n",
       "<table border=\"1\" class=\"dataframe\">\n",
       "  <thead>\n",
       "    <tr style=\"text-align: right;\">\n",
       "      <th></th>\n",
       "      <th>type</th>\n",
       "      <th>original</th>\n",
       "      <th>transformed</th>\n",
       "    </tr>\n",
       "  </thead>\n",
       "  <tbody>\n",
       "    <tr>\n",
       "      <th>0</th>\n",
       "      <td>Thinkladder Insight</td>\n",
       "      <td>My partner's actions (or lack of them) may be an indication that they do not know my feelings, needs, or how to respond to them. I am not a mind-reader and neither are they.</td>\n",
       "      <td>Your partner's actions (or lack of them) may be an indication that they do not know your feelings, needs, or how to respond to them. You are not a mind-reader and neither are they.</td>\n",
       "    </tr>\n",
       "    <tr>\n",
       "      <th>1</th>\n",
       "      <td>Thinkladder Insight</td>\n",
       "      <td>If someone has put thought into their request of me, I can also put thought into my answer. Space to consider requests allows me evaluate whether I have the time, energy and interest to say 'yes'.</td>\n",
       "      <td>If someone has put thought into their request of you, you can also put thought into your answer. Space to consider requests allows you evaluate whether you have the time, energy and interest to say 'yes'.</td>\n",
       "    </tr>\n",
       "    <tr>\n",
       "      <th>2</th>\n",
       "      <td>Thinkladder Insight</td>\n",
       "      <td>If I say 'yes' all the time, I'm going to disappoint more people.</td>\n",
       "      <td>If you say 'yes' all the time, you're going to disappoint more people.</td>\n",
       "    </tr>\n",
       "    <tr>\n",
       "      <th>3</th>\n",
       "      <td>Thinkladder Insight</td>\n",
       "      <td>I have influence over my children, but I don't make their choices for them, so it makes no sense to take responsibility for it.</td>\n",
       "      <td>You have influence over your children, but you don't make their choices for them, so it makes no sense to take responsibility for it.</td>\n",
       "    </tr>\n",
       "    <tr>\n",
       "      <th>4</th>\n",
       "      <td>Thinkladder Symptom</td>\n",
       "      <td>I am sick of hearing people be dramatic about the issues happening in my community.</td>\n",
       "      <td>You are sick of hearing people be dramatic about the issues happening in your community.</td>\n",
       "    </tr>\n",
       "    <tr>\n",
       "      <th>5</th>\n",
       "      <td>Thinkladder Symptom</td>\n",
       "      <td>I know I am damaging my credibility through trying to answer questions I don't have the answer for, but I can't help myself.</td>\n",
       "      <td>You know you are damaging your credibility through trying to answer questions you don't have the answer for, but you can't help yourself.</td>\n",
       "    </tr>\n",
       "    <tr>\n",
       "      <th>6</th>\n",
       "      <td>Thinkladder Belief</td>\n",
       "      <td>My life would be better if I never made mistakes.</td>\n",
       "      <td>Your life would be better if you never made mistakes.</td>\n",
       "    </tr>\n",
       "    <tr>\n",
       "      <th>7</th>\n",
       "      <td>Thinkladder Belief</td>\n",
       "      <td>I am just an angry person - I'll always be this way.</td>\n",
       "      <td>You are just an angry person - you'll always be this way.</td>\n",
       "    </tr>\n",
       "  </tbody>\n",
       "</table>\n",
       "</div>"
      ],
      "text/plain": [
       "                  type  \\\n",
       "0  Thinkladder Insight   \n",
       "1  Thinkladder Insight   \n",
       "2  Thinkladder Insight   \n",
       "3  Thinkladder Insight   \n",
       "4  Thinkladder Symptom   \n",
       "5  Thinkladder Symptom   \n",
       "6   Thinkladder Belief   \n",
       "7   Thinkladder Belief   \n",
       "\n",
       "                                                                                                                                                                                               original  \\\n",
       "0                         My partner's actions (or lack of them) may be an indication that they do not know my feelings, needs, or how to respond to them. I am not a mind-reader and neither are they.   \n",
       "1  If someone has put thought into their request of me, I can also put thought into my answer. Space to consider requests allows me evaluate whether I have the time, energy and interest to say 'yes'.   \n",
       "2                                                                                                                                     If I say 'yes' all the time, I'm going to disappoint more people.   \n",
       "3                                                                       I have influence over my children, but I don't make their choices for them, so it makes no sense to take responsibility for it.   \n",
       "4                                                                                                                   I am sick of hearing people be dramatic about the issues happening in my community.   \n",
       "5                                                                          I know I am damaging my credibility through trying to answer questions I don't have the answer for, but I can't help myself.   \n",
       "6                                                                                                                                                     My life would be better if I never made mistakes.   \n",
       "7                                                                                                                                                  I am just an angry person - I'll always be this way.   \n",
       "\n",
       "                                                                                                                                                                                                    transformed  \n",
       "0                          Your partner's actions (or lack of them) may be an indication that they do not know your feelings, needs, or how to respond to them. You are not a mind-reader and neither are they.  \n",
       "1  If someone has put thought into their request of you, you can also put thought into your answer. Space to consider requests allows you evaluate whether you have the time, energy and interest to say 'yes'.  \n",
       "2                                                                                                                                        If you say 'yes' all the time, you're going to disappoint more people.  \n",
       "3                                                                         You have influence over your children, but you don't make their choices for them, so it makes no sense to take responsibility for it.  \n",
       "4                                                                                                                      You are sick of hearing people be dramatic about the issues happening in your community.  \n",
       "5                                                                     You know you are damaging your credibility through trying to answer questions you don't have the answer for, but you can't help yourself.  \n",
       "6                                                                                                                                                         Your life would be better if you never made mistakes.  \n",
       "7                                                                                                                                                     You are just an angry person - you'll always be this way.  "
      ]
     },
     "execution_count": 6,
     "metadata": {},
     "output_type": "execute_result"
    }
   ],
   "source": [
    "fp_df"
   ]
  },
  {
   "cell_type": "code",
   "execution_count": 7,
   "id": "juvenile-advertising",
   "metadata": {},
   "outputs": [],
   "source": [
    "sp_df = pd.DataFrame({'type':['reddit']*5, 'original':reddit_second_person_sentences})\n",
    "sp_df['transformed'] = sp_df.original.apply(second_person_to_first_person_singular.transform)"
   ]
  },
  {
   "cell_type": "code",
   "execution_count": 8,
   "id": "martial-george",
   "metadata": {},
   "outputs": [
    {
     "data": {
      "text/html": [
       "<div>\n",
       "<style scoped>\n",
       "    .dataframe tbody tr th:only-of-type {\n",
       "        vertical-align: middle;\n",
       "    }\n",
       "\n",
       "    .dataframe tbody tr th {\n",
       "        vertical-align: top;\n",
       "    }\n",
       "\n",
       "    .dataframe thead th {\n",
       "        text-align: right;\n",
       "    }\n",
       "</style>\n",
       "<table border=\"1\" class=\"dataframe\">\n",
       "  <thead>\n",
       "    <tr style=\"text-align: right;\">\n",
       "      <th></th>\n",
       "      <th>type</th>\n",
       "      <th>original</th>\n",
       "      <th>transformed</th>\n",
       "    </tr>\n",
       "  </thead>\n",
       "  <tbody>\n",
       "    <tr>\n",
       "      <th>0</th>\n",
       "      <td>reddit</td>\n",
       "      <td>All it takes is that first scary ass step of putting yourself out there.</td>\n",
       "      <td>All it takes is that first scary ass step of putting myself out there.</td>\n",
       "    </tr>\n",
       "    <tr>\n",
       "      <th>1</th>\n",
       "      <td>reddit</td>\n",
       "      <td>Also you're definitely better than you think you are.</td>\n",
       "      <td>Also I'm definitely better than I think I am.</td>\n",
       "    </tr>\n",
       "    <tr>\n",
       "      <th>2</th>\n",
       "      <td>reddit</td>\n",
       "      <td>There are enough people in this world who would love to bring you down, take yourself off that list :D</td>\n",
       "      <td>There are enough people in this world who would love to bring me down, take myself off that list :D</td>\n",
       "    </tr>\n",
       "    <tr>\n",
       "      <th>3</th>\n",
       "      <td>reddit</td>\n",
       "      <td>The truth is most people will only stand by you and tolerate you as long as you are headed down the same path, the exact moment you decide to try something new or unexpected you are by yourself, the moment you struggle with life matters you are mostly by yourself.</td>\n",
       "      <td>The truth is most people will only stand by me and tolerate me as long as I am headed down the same path, the exact moment I decide to try something new or unexpected I am by myself, the moment I struggle with life matters I am mostly by myself.</td>\n",
       "    </tr>\n",
       "    <tr>\n",
       "      <th>4</th>\n",
       "      <td>reddit</td>\n",
       "      <td>If you meet up with them, and they make you feel good, that's what matters.</td>\n",
       "      <td>If I meet up with them, and they make I feel good, that's what matters.</td>\n",
       "    </tr>\n",
       "  </tbody>\n",
       "</table>\n",
       "</div>"
      ],
      "text/plain": [
       "     type  \\\n",
       "0  reddit   \n",
       "1  reddit   \n",
       "2  reddit   \n",
       "3  reddit   \n",
       "4  reddit   \n",
       "\n",
       "                                                                                                                                                                                                                                                                   original  \\\n",
       "0                                                                                                                                                                                                  All it takes is that first scary ass step of putting yourself out there.   \n",
       "1                                                                                                                                                                                                                     Also you're definitely better than you think you are.   \n",
       "2                                                                                                                                                                    There are enough people in this world who would love to bring you down, take yourself off that list :D   \n",
       "3  The truth is most people will only stand by you and tolerate you as long as you are headed down the same path, the exact moment you decide to try something new or unexpected you are by yourself, the moment you struggle with life matters you are mostly by yourself.   \n",
       "4                                                                                                                                                                                               If you meet up with them, and they make you feel good, that's what matters.   \n",
       "\n",
       "                                                                                                                                                                                                                                             transformed  \n",
       "0                                                                                                                                                                                 All it takes is that first scary ass step of putting myself out there.  \n",
       "1                                                                                                                                                                                                          Also I'm definitely better than I think I am.  \n",
       "2                                                                                                                                                    There are enough people in this world who would love to bring me down, take myself off that list :D  \n",
       "3  The truth is most people will only stand by me and tolerate me as long as I am headed down the same path, the exact moment I decide to try something new or unexpected I am by myself, the moment I struggle with life matters I am mostly by myself.  \n",
       "4                                                                                                                                                                                If I meet up with them, and they make I feel good, that's what matters.  "
      ]
     },
     "execution_count": 8,
     "metadata": {},
     "output_type": "execute_result"
    }
   ],
   "source": [
    "sp_df"
   ]
  },
  {
   "cell_type": "code",
   "execution_count": 8,
   "id": "5059cc48-fa62-4b94-8b80-490b7f800396",
   "metadata": {},
   "outputs": [
    {
     "data": {
      "text/html": [
       "<div>\n",
       "<style scoped>\n",
       "    .dataframe tbody tr th:only-of-type {\n",
       "        vertical-align: middle;\n",
       "    }\n",
       "\n",
       "    .dataframe tbody tr th {\n",
       "        vertical-align: top;\n",
       "    }\n",
       "\n",
       "    .dataframe thead th {\n",
       "        text-align: right;\n",
       "    }\n",
       "</style>\n",
       "<table border=\"1\" class=\"dataframe\">\n",
       "  <thead>\n",
       "    <tr style=\"text-align: right;\">\n",
       "      <th></th>\n",
       "      <th>type</th>\n",
       "      <th>original</th>\n",
       "      <th>transformed</th>\n",
       "    </tr>\n",
       "  </thead>\n",
       "  <tbody>\n",
       "    <tr>\n",
       "      <th>0</th>\n",
       "      <td>reddit</td>\n",
       "      <td>All it takes is that first scary ass step of putting yourself out there.</td>\n",
       "      <td>All it takes is that first scary ass step of putting myself out there.</td>\n",
       "    </tr>\n",
       "    <tr>\n",
       "      <th>1</th>\n",
       "      <td>reddit</td>\n",
       "      <td>Also you're definitely better than you think you are.</td>\n",
       "      <td>Also I'm definitely better than I think I am.</td>\n",
       "    </tr>\n",
       "    <tr>\n",
       "      <th>2</th>\n",
       "      <td>reddit</td>\n",
       "      <td>There are enough people in this world who would love to bring you down, take yourself off that list :D</td>\n",
       "      <td>There are enough people in this world who would love to bring me down, take myself off that list :D</td>\n",
       "    </tr>\n",
       "    <tr>\n",
       "      <th>3</th>\n",
       "      <td>reddit</td>\n",
       "      <td>The truth is most people will only stand by you and tolerate you as long as you are headed down the same path, the exact moment you decide to try something new or unexpected you are by yourself, the moment you struggle with life matters you are mostly by yourself.</td>\n",
       "      <td>The truth is most people will only stand by me and tolerate me as long as I am headed down the same path, the exact moment I decide to try something new or unexpected I am by myself, the moment I struggle with life matters I am mostly by myself.</td>\n",
       "    </tr>\n",
       "    <tr>\n",
       "      <th>4</th>\n",
       "      <td>reddit</td>\n",
       "      <td>If you meet up with them, and they make you feel good, that's what matters.</td>\n",
       "      <td>If I meet up with them, and they make I feel good, that's what matters.</td>\n",
       "    </tr>\n",
       "  </tbody>\n",
       "</table>\n",
       "</div>"
      ],
      "text/plain": [
       "     type  \\\n",
       "0  reddit   \n",
       "1  reddit   \n",
       "2  reddit   \n",
       "3  reddit   \n",
       "4  reddit   \n",
       "\n",
       "                                                                                                                                                                                                                                                                   original  \\\n",
       "0                                                                                                                                                                                                  All it takes is that first scary ass step of putting yourself out there.   \n",
       "1                                                                                                                                                                                                                     Also you're definitely better than you think you are.   \n",
       "2                                                                                                                                                                    There are enough people in this world who would love to bring you down, take yourself off that list :D   \n",
       "3  The truth is most people will only stand by you and tolerate you as long as you are headed down the same path, the exact moment you decide to try something new or unexpected you are by yourself, the moment you struggle with life matters you are mostly by yourself.   \n",
       "4                                                                                                                                                                                               If you meet up with them, and they make you feel good, that's what matters.   \n",
       "\n",
       "                                                                                                                                                                                                                                             transformed  \n",
       "0                                                                                                                                                                                 All it takes is that first scary ass step of putting myself out there.  \n",
       "1                                                                                                                                                                                                          Also I'm definitely better than I think I am.  \n",
       "2                                                                                                                                                    There are enough people in this world who would love to bring me down, take myself off that list :D  \n",
       "3  The truth is most people will only stand by me and tolerate me as long as I am headed down the same path, the exact moment I decide to try something new or unexpected I am by myself, the moment I struggle with life matters I am mostly by myself.  \n",
       "4                                                                                                                                                                                If I meet up with them, and they make I feel good, that's what matters.  "
      ]
     },
     "execution_count": 8,
     "metadata": {},
     "output_type": "execute_result"
    }
   ],
   "source": [
    "sp_df"
   ]
  },
  {
   "cell_type": "markdown",
   "id": "d333a977-464a-4c1b-be14-406645816896",
   "metadata": {},
   "source": [
    "## Mmmmm"
   ]
  },
  {
   "cell_type": "markdown",
   "id": "ab90a8b9-292f-4932-b229-d54716df049c",
   "metadata": {},
   "source": [
    "First person perspective is the *I/we* perspective. \n",
    "Second person perspective is the *you* perspective.\n",
    "I is first person singular, we is first person plural. Unfortunately, second person does not have a singular/plural form - you is used for everything. That means information is likely lost if we try to translate from first to second to first. But nevermind.\n",
    "\n",
    "| Perspective | Plural or Singular | Subject | Object | Possessive (absolute) | Possessive (adjective) | Reflective |\n",
    "| --- | --- | --- | --- | --- | --- | --- |\n",
    "| First-person | Singular | I | me | my | mine | myself | \n",
    "| Second-person | Singular | you | you | your | yours | yourself | \n",
    "| First-person | Plural | we | use | our | ours | ourselves | \n",
    "| Second-person | Plural | you | you | your | yours | yourselves | \n",
    "\n",
    "Where's I'm in this? Contractions need to be explored."
   ]
  },
  {
   "cell_type": "code",
   "execution_count": 9,
   "id": "liable-resident",
   "metadata": {},
   "outputs": [],
   "source": [
    "import spacy"
   ]
  },
  {
   "cell_type": "code",
   "execution_count": 25,
   "id": "76715966-31bd-41a5-9723-449d9479e0bb",
   "metadata": {},
   "outputs": [],
   "source": [
    "nlp = spacy.load(\"en_core_web_sm\")"
   ]
  },
  {
   "cell_type": "code",
   "execution_count": 18,
   "id": "ee7abd97-5fcc-4e74-b848-2a20a6a79ff0",
   "metadata": {},
   "outputs": [],
   "source": [
    "doc = nlp(\"If you meet up with them, and they make you feel good, that's what matters.\")"
   ]
  },
  {
   "cell_type": "code",
   "execution_count": 21,
   "id": "6ff32d81-7375-463b-a871-d75f1cd0f50d",
   "metadata": {},
   "outputs": [
    {
     "name": "stdout",
     "output_type": "stream",
     "text": [
      "If if SCONJ IN mark Xx True True  if If I\n",
      "you you PRON PRP nsubj xxx True True Case=Nom|Person=2|PronType=Prs you you y\n",
      "meet meet VERB VBP ROOT xxxx True False Tense=Pres|VerbForm=Fin meet meet m\n",
      "up up ADP RP prt xx True True  up up u\n",
      "with with ADP IN prep xxxx True True  with with w\n",
      "them they PRON PRP pobj xxxx True True Case=Acc|Number=Plur|Person=3|PronType=Prs them them t\n",
      ", , PUNCT , punct , False False PunctType=Comm , , ,\n",
      "and and CCONJ CC cc xxx True True ConjType=Cmp and and a\n",
      "they they PRON PRP nsubj xxxx True True Case=Nom|Number=Plur|Person=3|PronType=Prs they they t\n",
      "make make VERB VBP conj xxxx True True Tense=Pres|VerbForm=Fin make make m\n",
      "you you PRON PRP nsubj xxx True True Case=Nom|Person=2|PronType=Prs you you y\n",
      "feel feel VERB VB ccomp xxxx True False VerbForm=Inf feel feel f\n",
      "good good ADJ JJ acomp xxxx True False Degree=Pos good good g\n",
      ", , PUNCT , punct , False False PunctType=Comm , , ,\n",
      "that that DET DT nsubj xxxx True True Number=Sing|PronType=Dem that that t\n",
      "'s be AUX VBZ ccomp 'x False True Mood=Ind|Number=Sing|Person=3|Tense=Pres|VerbForm=Fin 's 's '\n",
      "what what PRON WP nsubj xxxx True True  what what w\n",
      "matters matter VERB VBZ ccomp xxxx True False Number=Sing|Person=Three|Tense=Pres|VerbForm=Fin matters matters m\n",
      ". . PUNCT . punct . False False PunctType=Peri . . .\n"
     ]
    }
   ],
   "source": [
    "for token in doc:\n",
    "    print(token.text, token.lemma_, token.pos_, token.tag_, token.dep_,\n",
    "            token.shape_, token.is_alpha, token.is_stop, token.morph, token.norm_, token.orth_, token.prefix_)"
   ]
  },
  {
   "cell_type": "code",
   "execution_count": 20,
   "id": "bb9406c0-2884-4c04-8a0a-7e5fa2aae044",
   "metadata": {},
   "outputs": [
    {
     "data": {
      "text/plain": [
       "'Nom'"
      ]
     },
     "execution_count": 20,
     "metadata": {},
     "output_type": "execute_result"
    }
   ],
   "source": [
    "doc[10].morph.to_dict()['Case']"
   ]
  },
  {
   "cell_type": "code",
   "execution_count": null,
   "id": "0c8515ab-aad7-496b-adf6-1df2ca62fbb6",
   "metadata": {},
   "outputs": [],
   "source": []
  },
  {
   "cell_type": "code",
   "execution_count": 26,
   "id": "506f1290-951f-4020-982d-59d4d7e70473",
   "metadata": {},
   "outputs": [
    {
     "name": "stdout",
     "output_type": "stream",
     "text": [
      "Jane Jane PROPN NNP nsubj Xxxx True False NounType=Prop|Number=Sing\n",
      "is be AUX VBZ aux xx True True Mood=Ind|Number=Sing|Person=3|Tense=Pres|VerbForm=Fin\n",
      "making make VERB VBG ROOT xxxx True False Aspect=Prog|Tense=Pres|VerbForm=Part\n",
      "me I PRON PRP nsubj xx True True Case=Acc|Number=Sing|Person=1|PronType=Prs\n",
      "pizza pizza NOUN NN ccomp xxxx True False Number=Sing\n",
      ". . PUNCT . punct . False False PunctType=Peri\n"
     ]
    }
   ],
   "source": [
    "doc = nlp(\"Jane is making me pizza.\")\n",
    "for token in doc:\n",
    "    print(token.text, token.lemma_, token.pos_, token.tag_, token.dep_,\n",
    "            token.shape_, token.is_alpha, token.is_stop, token.morph)"
   ]
  },
  {
   "cell_type": "code",
   "execution_count": 23,
   "id": "fd962c62-7b85-43e3-a815-6c68272cf34a",
   "metadata": {},
   "outputs": [
    {
     "data": {
      "text/plain": [
       "'Acc'"
      ]
     },
     "execution_count": 23,
     "metadata": {},
     "output_type": "execute_result"
    }
   ],
   "source": [
    "doc[10].morph.to_dict()['Case']"
   ]
  },
  {
   "cell_type": "code",
   "execution_count": 27,
   "id": "ac7056b0-70be-4105-91e4-d4a5a212adb6",
   "metadata": {},
   "outputs": [
    {
     "data": {
      "text/plain": [
       "'Jane is making I pizza.'"
      ]
     },
     "execution_count": 27,
     "metadata": {},
     "output_type": "execute_result"
    }
   ],
   "source": [
    "second_person_to_first_person_singular.transform(\"Jane is making you pizza.\")"
   ]
  },
  {
   "cell_type": "code",
   "execution_count": 1,
   "id": "4b2e1072-212e-410a-834c-974e1ef598d2",
   "metadata": {},
   "outputs": [],
   "source": [
    "import stanza"
   ]
  },
  {
   "cell_type": "code",
   "execution_count": 2,
   "id": "76d93423-cf99-476a-b394-4ad37d22065a",
   "metadata": {},
   "outputs": [
    {
     "data": {
      "application/vnd.jupyter.widget-view+json": {
       "model_id": "f69bcb598f384b839b56373e97ad428e",
       "version_major": 2,
       "version_minor": 0
      },
      "text/plain": [
       "Downloading https://raw.githubusercontent.com/stanfordnlp/stanza-resources/main/resources_1.2.2.json:   0%|   …"
      ]
     },
     "metadata": {},
     "output_type": "display_data"
    },
    {
     "name": "stderr",
     "output_type": "stream",
     "text": [
      "2021-08-30 21:27:05 INFO: Downloading default packages for language: en (English)...\n"
     ]
    },
    {
     "data": {
      "application/vnd.jupyter.widget-view+json": {
       "model_id": "449690d69aac4e7c8794d4aa9b02d568",
       "version_major": 2,
       "version_minor": 0
      },
      "text/plain": [
       "Downloading http://nlp.stanford.edu/software/stanza/1.2.2/en/default.zip:   0%|          | 0.00/412M [00:00<?,…"
      ]
     },
     "metadata": {},
     "output_type": "display_data"
    },
    {
     "name": "stderr",
     "output_type": "stream",
     "text": [
      "2021-08-30 21:29:42 INFO: Finished downloading models and saved to C:\\Users\\mskel\\stanza_resources.\n"
     ]
    }
   ],
   "source": [
    "stanza.download('en')"
   ]
  },
  {
   "cell_type": "code",
   "execution_count": 3,
   "id": "a5640925-5610-4119-99c6-944da1b73406",
   "metadata": {},
   "outputs": [
    {
     "name": "stderr",
     "output_type": "stream",
     "text": [
      "2021-08-30 21:30:45 INFO: Loading these models for language: en (English):\n",
      "=========================\n",
      "| Processor | Package   |\n",
      "-------------------------\n",
      "| tokenize  | combined  |\n",
      "| pos       | combined  |\n",
      "| lemma     | combined  |\n",
      "| depparse  | combined  |\n",
      "| sentiment | sstplus   |\n",
      "| ner       | ontonotes |\n",
      "=========================\n",
      "\n",
      "2021-08-30 21:30:45 INFO: Use device: cpu\n",
      "2021-08-30 21:30:45 INFO: Loading: tokenize\n",
      "2021-08-30 21:30:45 INFO: Loading: pos\n",
      "2021-08-30 21:30:45 INFO: Loading: lemma\n",
      "2021-08-30 21:30:45 INFO: Loading: depparse\n",
      "2021-08-30 21:30:45 INFO: Loading: sentiment\n",
      "2021-08-30 21:30:46 INFO: Loading: ner\n",
      "2021-08-30 21:30:47 INFO: Done loading processors!\n"
     ]
    }
   ],
   "source": [
    "nlp = stanza.Pipeline('en')"
   ]
  },
  {
   "cell_type": "code",
   "execution_count": 5,
   "id": "92592956-d58e-4623-a86b-39aa0c41b0bb",
   "metadata": {},
   "outputs": [],
   "source": [
    "doc = nlp(\"Jane is making me pizza.\")"
   ]
  },
  {
   "cell_type": "code",
   "execution_count": 42,
   "id": "a3d2a267-a485-48bb-b0c0-9e557bc03cc4",
   "metadata": {},
   "outputs": [
    {
     "name": "stdout",
     "output_type": "stream",
     "text": [
      "Jane Jane PROPN NNP nsubj Number=Sing [\n",
      "  {\n",
      "    \"id\": 1,\n",
      "    \"text\": \"Jane\",\n",
      "    \"lemma\": \"Jane\",\n",
      "    \"upos\": \"PROPN\",\n",
      "    \"xpos\": \"NNP\",\n",
      "    \"feats\": \"Number=Sing\",\n",
      "    \"head\": 3,\n",
      "    \"deprel\": \"nsubj\",\n",
      "    \"start_char\": 0,\n",
      "    \"end_char\": 4,\n",
      "    \"ner\": \"S-PERSON\"\n",
      "  }\n",
      "]\n",
      "is be AUX VBZ aux Mood=Ind|Number=Sing|Person=3|Tense=Pres|VerbForm=Fin [\n",
      "  {\n",
      "    \"id\": 2,\n",
      "    \"text\": \"is\",\n",
      "    \"lemma\": \"be\",\n",
      "    \"upos\": \"AUX\",\n",
      "    \"xpos\": \"VBZ\",\n",
      "    \"feats\": \"Mood=Ind|Number=Sing|Person=3|Tense=Pres|VerbForm=Fin\",\n",
      "    \"head\": 3,\n",
      "    \"deprel\": \"aux\",\n",
      "    \"start_char\": 5,\n",
      "    \"end_char\": 7,\n",
      "    \"ner\": \"O\"\n",
      "  }\n",
      "]\n",
      "making make VERB VBG root Tense=Pres|VerbForm=Part [\n",
      "  {\n",
      "    \"id\": 3,\n",
      "    \"text\": \"making\",\n",
      "    \"lemma\": \"make\",\n",
      "    \"upos\": \"VERB\",\n",
      "    \"xpos\": \"VBG\",\n",
      "    \"feats\": \"Tense=Pres|VerbForm=Part\",\n",
      "    \"head\": 0,\n",
      "    \"deprel\": \"root\",\n",
      "    \"start_char\": 8,\n",
      "    \"end_char\": 14,\n",
      "    \"ner\": \"O\"\n",
      "  }\n",
      "]\n",
      "me I PRON PRP iobj Case=Acc|Number=Sing|Person=1|PronType=Prs [\n",
      "  {\n",
      "    \"id\": 4,\n",
      "    \"text\": \"me\",\n",
      "    \"lemma\": \"I\",\n",
      "    \"upos\": \"PRON\",\n",
      "    \"xpos\": \"PRP\",\n",
      "    \"feats\": \"Case=Acc|Number=Sing|Person=1|PronType=Prs\",\n",
      "    \"head\": 3,\n",
      "    \"deprel\": \"iobj\",\n",
      "    \"start_char\": 15,\n",
      "    \"end_char\": 17,\n",
      "    \"ner\": \"O\"\n",
      "  }\n",
      "]\n",
      "pizza pizza NOUN NN obj Number=Sing [\n",
      "  {\n",
      "    \"id\": 5,\n",
      "    \"text\": \"pizza\",\n",
      "    \"lemma\": \"pizza\",\n",
      "    \"upos\": \"NOUN\",\n",
      "    \"xpos\": \"NN\",\n",
      "    \"feats\": \"Number=Sing\",\n",
      "    \"head\": 3,\n",
      "    \"deprel\": \"obj\",\n",
      "    \"start_char\": 18,\n",
      "    \"end_char\": 23,\n",
      "    \"ner\": \"O\"\n",
      "  }\n",
      "]\n",
      ". . PUNCT . punct None [\n",
      "  {\n",
      "    \"id\": 6,\n",
      "    \"text\": \".\",\n",
      "    \"lemma\": \".\",\n",
      "    \"upos\": \"PUNCT\",\n",
      "    \"xpos\": \".\",\n",
      "    \"head\": 3,\n",
      "    \"deprel\": \"punct\",\n",
      "    \"start_char\": 23,\n",
      "    \"end_char\": 24,\n",
      "    \"ner\": \"O\"\n",
      "  }\n",
      "]\n"
     ]
    }
   ],
   "source": [
    "for sentence in doc.sentences:\n",
    "    for word in sentence.words:\n",
    "        print(word.text, word.lemma, word.pos, word.xpos, word.deprel, word.feats, word.parent)"
   ]
  },
  {
   "cell_type": "code",
   "execution_count": 41,
   "id": "14fd4967-e692-4451-9adc-021059c2ab5a",
   "metadata": {},
   "outputs": [
    {
     "data": {
      "text/plain": [
       "{\n",
       "  \"id\": 3,\n",
       "  \"text\": \"making\",\n",
       "  \"lemma\": \"make\",\n",
       "  \"upos\": \"VERB\",\n",
       "  \"xpos\": \"VBG\",\n",
       "  \"feats\": \"Tense=Pres|VerbForm=Part\",\n",
       "  \"head\": 0,\n",
       "  \"deprel\": \"root\",\n",
       "  \"start_char\": 8,\n",
       "  \"end_char\": 14\n",
       "}"
      ]
     },
     "execution_count": 41,
     "metadata": {},
     "output_type": "execute_result"
    }
   ],
   "source": [
    "doc.sentences[0].words[2]"
   ]
  },
  {
   "cell_type": "code",
   "execution_count": 9,
   "id": "290810f9-9923-4990-a35c-ca738da97df9",
   "metadata": {},
   "outputs": [
    {
     "name": "stdout",
     "output_type": "stream",
     "text": [
      "[{\n",
      "  \"text\": \"Jane\",\n",
      "  \"type\": \"PERSON\",\n",
      "  \"start_char\": 0,\n",
      "  \"end_char\": 4\n",
      "}]\n",
      "[({\n",
      "  \"id\": 3,\n",
      "  \"text\": \"making\",\n",
      "  \"lemma\": \"make\",\n",
      "  \"upos\": \"VERB\",\n",
      "  \"xpos\": \"VBG\",\n",
      "  \"feats\": \"Tense=Pres|VerbForm=Part\",\n",
      "  \"head\": 0,\n",
      "  \"deprel\": \"root\",\n",
      "  \"start_char\": 8,\n",
      "  \"end_char\": 14\n",
      "}, 'nsubj', {\n",
      "  \"id\": 1,\n",
      "  \"text\": \"Jane\",\n",
      "  \"lemma\": \"Jane\",\n",
      "  \"upos\": \"PROPN\",\n",
      "  \"xpos\": \"NNP\",\n",
      "  \"feats\": \"Number=Sing\",\n",
      "  \"head\": 3,\n",
      "  \"deprel\": \"nsubj\",\n",
      "  \"start_char\": 0,\n",
      "  \"end_char\": 4\n",
      "}), ({\n",
      "  \"id\": 3,\n",
      "  \"text\": \"making\",\n",
      "  \"lemma\": \"make\",\n",
      "  \"upos\": \"VERB\",\n",
      "  \"xpos\": \"VBG\",\n",
      "  \"feats\": \"Tense=Pres|VerbForm=Part\",\n",
      "  \"head\": 0,\n",
      "  \"deprel\": \"root\",\n",
      "  \"start_char\": 8,\n",
      "  \"end_char\": 14\n",
      "}, 'aux', {\n",
      "  \"id\": 2,\n",
      "  \"text\": \"is\",\n",
      "  \"lemma\": \"be\",\n",
      "  \"upos\": \"AUX\",\n",
      "  \"xpos\": \"VBZ\",\n",
      "  \"feats\": \"Mood=Ind|Number=Sing|Person=3|Tense=Pres|VerbForm=Fin\",\n",
      "  \"head\": 3,\n",
      "  \"deprel\": \"aux\",\n",
      "  \"start_char\": 5,\n",
      "  \"end_char\": 7\n",
      "}), ({\n",
      "  \"id\": 0,\n",
      "  \"text\": \"ROOT\"\n",
      "}, 'root', {\n",
      "  \"id\": 3,\n",
      "  \"text\": \"making\",\n",
      "  \"lemma\": \"make\",\n",
      "  \"upos\": \"VERB\",\n",
      "  \"xpos\": \"VBG\",\n",
      "  \"feats\": \"Tense=Pres|VerbForm=Part\",\n",
      "  \"head\": 0,\n",
      "  \"deprel\": \"root\",\n",
      "  \"start_char\": 8,\n",
      "  \"end_char\": 14\n",
      "}), ({\n",
      "  \"id\": 3,\n",
      "  \"text\": \"making\",\n",
      "  \"lemma\": \"make\",\n",
      "  \"upos\": \"VERB\",\n",
      "  \"xpos\": \"VBG\",\n",
      "  \"feats\": \"Tense=Pres|VerbForm=Part\",\n",
      "  \"head\": 0,\n",
      "  \"deprel\": \"root\",\n",
      "  \"start_char\": 8,\n",
      "  \"end_char\": 14\n",
      "}, 'iobj', {\n",
      "  \"id\": 4,\n",
      "  \"text\": \"me\",\n",
      "  \"lemma\": \"I\",\n",
      "  \"upos\": \"PRON\",\n",
      "  \"xpos\": \"PRP\",\n",
      "  \"feats\": \"Case=Acc|Number=Sing|Person=1|PronType=Prs\",\n",
      "  \"head\": 3,\n",
      "  \"deprel\": \"iobj\",\n",
      "  \"start_char\": 15,\n",
      "  \"end_char\": 17\n",
      "}), ({\n",
      "  \"id\": 3,\n",
      "  \"text\": \"making\",\n",
      "  \"lemma\": \"make\",\n",
      "  \"upos\": \"VERB\",\n",
      "  \"xpos\": \"VBG\",\n",
      "  \"feats\": \"Tense=Pres|VerbForm=Part\",\n",
      "  \"head\": 0,\n",
      "  \"deprel\": \"root\",\n",
      "  \"start_char\": 8,\n",
      "  \"end_char\": 14\n",
      "}, 'obj', {\n",
      "  \"id\": 5,\n",
      "  \"text\": \"pizza\",\n",
      "  \"lemma\": \"pizza\",\n",
      "  \"upos\": \"NOUN\",\n",
      "  \"xpos\": \"NN\",\n",
      "  \"feats\": \"Number=Sing\",\n",
      "  \"head\": 3,\n",
      "  \"deprel\": \"obj\",\n",
      "  \"start_char\": 18,\n",
      "  \"end_char\": 23\n",
      "}), ({\n",
      "  \"id\": 3,\n",
      "  \"text\": \"making\",\n",
      "  \"lemma\": \"make\",\n",
      "  \"upos\": \"VERB\",\n",
      "  \"xpos\": \"VBG\",\n",
      "  \"feats\": \"Tense=Pres|VerbForm=Part\",\n",
      "  \"head\": 0,\n",
      "  \"deprel\": \"root\",\n",
      "  \"start_char\": 8,\n",
      "  \"end_char\": 14\n",
      "}, 'punct', {\n",
      "  \"id\": 6,\n",
      "  \"text\": \".\",\n",
      "  \"lemma\": \".\",\n",
      "  \"upos\": \"PUNCT\",\n",
      "  \"xpos\": \".\",\n",
      "  \"head\": 3,\n",
      "  \"deprel\": \"punct\",\n",
      "  \"start_char\": 23,\n",
      "  \"end_char\": 24\n",
      "})]\n"
     ]
    }
   ],
   "source": [
    "for sentence in doc.sentences:\n",
    "    print(sentence.ents)\n",
    "    print(sentence.dependencies)"
   ]
  },
  {
   "cell_type": "code",
   "execution_count": 11,
   "id": "524e5bf5-b292-4858-812b-1b6210e3e2b9",
   "metadata": {},
   "outputs": [],
   "source": [
    "import pyinflect"
   ]
  },
  {
   "cell_type": "code",
   "execution_count": 22,
   "id": "89d79332-69f0-4e96-8a37-15957e248c82",
   "metadata": {},
   "outputs": [],
   "source": [
    "pyinflect.getInflection('walk', 'NNP')"
   ]
  },
  {
   "cell_type": "code",
   "execution_count": null,
   "id": "5b9cf9b6-b030-4411-9e98-7f1db9540274",
   "metadata": {},
   "outputs": [],
   "source": []
  }
 ],
 "metadata": {
  "kernelspec": {
   "display_name": "Python 3 (ipykernel)",
   "language": "python",
   "name": "python3"
  },
  "language_info": {
   "codemirror_mode": {
    "name": "ipython",
    "version": 3
   },
   "file_extension": ".py",
   "mimetype": "text/x-python",
   "name": "python",
   "nbconvert_exporter": "python",
   "pygments_lexer": "ipython3",
   "version": "3.8.11"
  }
 },
 "nbformat": 4,
 "nbformat_minor": 5
}
